{
 "cells": [
  {
   "cell_type": "code",
   "execution_count": 1,
   "metadata": {},
   "outputs": [],
   "source": [
    "import os\n",
    "import sys\n",
    "\n",
    "from Bio.Seq import Seq\n",
    "import gzip\n",
    "from twobitreader import TwoBitFile\n",
    "import pandas as pd\n",
    "from collections import defaultdict"
   ]
  },
  {
   "cell_type": "code",
   "execution_count": 2,
   "metadata": {},
   "outputs": [],
   "source": [
    "from mapper import GPmapper, make_gp_file, split_muts_file\n",
    "from spectra import calc_muts_spectra, calc_muts_freq"
   ]
  },
  {
   "cell_type": "markdown",
   "metadata": {},
   "source": [
    "### Clumps Pipeline"
   ]
  },
  {
   "cell_type": "code",
   "execution_count": 3,
   "metadata": {
    "scrolled": true
   },
   "outputs": [
    {
     "name": "stdout",
     "output_type": "stream",
     "text": [
      "WARNING: non-matching reference and translated AA chr14 75266119 0 [75266119, 75266122] 0 3 4 20\n",
      "WARNING: non-matching reference and translated AA chr13 72146974 0 [72146974, 72146977] 0 3 7 12\n",
      "WARNING: non-matching reference and translated AA chr7 82595746 0 [82595746, 82595749] 0 3 19 24\n",
      "WARNING: non-matching reference and translated AA chr9 100133047 0 [100133045, 100133048] 0 3 33 38\n",
      "WARNING: non-matching reference and translated AA chr17 76430179 0 [76430178, 76430181] 0 3 6 80\n",
      "WARNING: non-matching reference and translated AA chr10 91196026 0 [91196024, 91196027] 0 3 1 6\n",
      "WARNING: non-matching reference and translated AA chr12 94772742 0 [94772740, 94772743] 0 3 10 15\n",
      "WARNING: non-matching reference and translated AA chr5 140735294 0 [140735292, 140735295] 0 3 0 4\n",
      "WARNING: non-matching reference and translated AA chr13 77750679 0 [77750679, 77750682] 0 3 47 83\n",
      "WARNING: non-matching reference and translated AA chr8 10464702 0 [10464701, 10464704] 0 3 0 4\n",
      "WARNING: non-matching reference and translated AA chrX 66765839 0 [66765837, 66765840] 0 3 0 9\n",
      "WARNING: non-matching reference and translated AA chr15 42276009 0 [42276008, 42276011] 0 3 0 20\n",
      "WARNING: non-matching reference and translated AA chr1 154744845 0 [154744845, 154744848] 0 3 5 9\n",
      "WARNING: non-matching reference and translated AA chr19 7509207 0 [7509205, 7509208] 0 3 3 19\n",
      "WARNING: non-matching reference and translated AA chr7 82545543 0 [82545541, 82545544] 0 3 16 24\n",
      "WARNING: non-matching reference and translated AA chr2 130912703 0 [130912702, 130912705] 0 3 5 19\n",
      "WARNING: non-matching reference and translated AA chr12 94805545 0 [94805544, 94805547] 0 3 13 15\n",
      "WARNING: non-matching reference and translated AA chr1 214820646 0 [214820644, 214820647] 0 3 11 19\n",
      "WARNING: non-matching reference and translated AA chr1 205496964 0 [205496963, 205496966] 0 3 7 15\n",
      "WARNING: non-matching reference and translated AA chr19 9063765 0 [9063763, 9063766] 0 3 80 87\n",
      "WARNING: non-matching reference and translated AA chr5 7897203 0 [7897202, 7897205] 0 3 13 15\n",
      "WARNING: non-matching reference and translated AA chr9 139358984 0 [139358982, 139358985] 0 3 23 30\n",
      "WARNING: non-matching reference and translated AA chr7 82474728 0 [82474727, 82474730] 0 3 11 24\n",
      "WARNING: non-matching reference and translated AA chr8 3226783 0 [3226782, 3226785] 0 3 51 70\n",
      "WARNING: non-matching reference and translated AA chr5 7885847 0 [7885846, 7885849] 0 3 6 15\n",
      "WARNING: non-matching reference and translated AA chr19 7516043 0 [7516043, 7516046] 0 3 5 19\n",
      "WARNING: non-matching reference and translated AA chr7 82544785 0 [82544785, 82544788] 0 3 16 24\n",
      "WARNING: non-matching reference and translated AA chr2 73799655 0 [73799654, 73799657] 0 3 15 23\n",
      "WARNING: non-matching reference and translated AA chr19 9067188 0 [9067186, 9067189] 0 3 80 87\n",
      "WARNING: non-matching reference and translated AA chr19 9048222 0 [9048222, 9048225] 0 3 78 87\n",
      "WARNING: non-matching reference and translated AA chr1 173616122 0 [173616120, 173616123] 0 3 3 6\n",
      "WARNING: non-matching reference and translated AA chrX 71359776 0 [71359774, 71359777] 0 3 0 1\n",
      "WARNING: non-matching reference and translated AA chr7 82584638 0 [82584637, 82584640] 0 3 18 24\n",
      "WARNING: non-matching reference and translated AA chr7 100552500 0 [100552500, 100552503] 0 3 2 13\n",
      "WARNING: non-matching reference and translated AA chr1 27709018 0 [27709017, 27709020] 0 3 3 5\n",
      "WARNING: non-matching reference and translated AA chr7 82584566 0 [82584565, 82584568] 0 3 18 24\n",
      "WARNING: non-matching reference and translated AA chr9 19372063 0 [19372063, 19372066] 0 3 27 28\n",
      "WARNING: non-matching reference and translated AA chr16 72157498 0 [72157497, 72157500] 0 3 2 19\n",
      "WARNING: non-matching reference and translated AA chr6 32012890 0 [32012888, 32012891] 0 3 12 44\n",
      "WARNING: non-matching reference and translated AA chr1 74670607 0 [74670607, 74670610] 0 3 3 4\n",
      "WARNING: non-matching reference and translated AA chr7 82545334 0 [82545334, 82545337] 0 3 16 24\n",
      "WARNING: non-matching reference and translated AA chr19 9067377 0 [9067375, 9067378] 0 3 80 87\n",
      "WARNING: non-matching reference and translated AA chr7 82585009 0 [82585009, 82585012] 0 3 18 24\n",
      "WARNING: non-matching reference and translated AA chr7 82474698 0 [82474697, 82474700] 0 3 11 24\n",
      "WARNING: non-matching reference and translated AA chr7 82579214 0 [82579214, 82579217] 0 3 17 24\n",
      "WARNING: non-matching reference and translated AA chr7 91631982 0 [91631982, 91631985] 0 3 8 50\n",
      "WARNING: non-matching reference and translated AA chr8 3141843 0 [3141843, 3141846] 0 3 44 70\n",
      "WARNING: non-matching reference and translated AA chr1 12785703 0 [12785702, 12785705] 0 3 2 3\n",
      "WARNING: non-matching reference and translated AA chr14 75265970 0 [75265969, 75265972] 0 3 4 20\n",
      "WARNING: non-matching reference and translated AA chr22 23235971 0 [23235970, 23235973] 0 3 1 2\n",
      "WARNING: non-matching reference and translated AA chr10 24959250 0 [24959248, 24959251] 0 3 23 25\n",
      "WARNING: non-matching reference and translated AA chr1 1225671 0 [1225671, 1225674] 0 3 7 13\n",
      "WARNING: non-matching reference and translated AA chr19 9072995 0 [9072994, 9072997] 0 3 80 87\n",
      "WARNING: non-matching reference and translated AA chr17 76446842 0 [76446841, 76446844] 0 3 14 80\n",
      "WARNING: non-matching reference and translated AA chr22 50886829 0 [50886828, 50886831] 0 3 3 40\n",
      "WARNING: non-matching reference and translated AA chr19 53668452 0 [53668452, 53668455] 0 3 0 1\n",
      "WARNING: non-matching reference and translated AA chrX 110653450 0 [110653449, 110653452] 0 3 5 7\n",
      "WARNING: non-matching reference and translated AA chr5 140735359 0 [140735358, 140735361] 0 3 0 4\n",
      "WARNING: non-matching reference and translated AA chr8 2967710 0 [2967708, 2967711] 0 3 27 70\n",
      "WARNING: non-matching reference and translated AA chr22 23235983 0 [23235982, 23235985] 0 3 1 2\n",
      "WARNING: non-matching reference and translated AA chr19 9046141 0 [9046140, 9046143] 0 3 78 87\n",
      "WARNING: non-matching reference and translated AA chr19 9065508 0 [9065506, 9065509] 0 3 80 87\n",
      "WARNING: non-matching reference and translated AA chr19 9067083 0 [9067081, 9067084] 0 3 80 87\n",
      "WARNING: non-matching reference and translated AA chr1 906465 0 [906465, 906468] 0 3 5 15\n",
      "WARNING: non-matching reference and translated AA chr7 82544638 0 [82544638, 82544641] 0 3 16 24\n",
      "WARNING: non-matching reference and translated AA chr7 82581307 0 [82581307, 82581310] 0 3 18 24\n",
      "WARNING: non-matching reference and translated AA chr18 13068914 0 [13068912, 13068915] 0 3 12 33\n",
      "WARNING: non-matching reference and translated AA chr7 82583489 0 [82583488, 82583491] 0 3 18 24\n",
      "ONO 654 2\n",
      "WARNING: non-matching reference and translated AA chr13 72147061 0 [72147061, 72147064] 0 3 7 12\n",
      "WARNING: non-matching reference and translated AA chr19 9077703 0 [9077701, 9077704] 0 3 83 87\n",
      "WARNING: non-matching reference and translated AA chr7 82595243 0 [82595242, 82595245] 0 3 19 24\n",
      "WARNING: non-matching reference and translated AA chr1 214830743 0 [214830742, 214830745] 0 3 16 19\n",
      "WARNING: non-matching reference and translated AA chr13 114531532 0 [114531531, 114531534] 0 3 4 15\n",
      "WARNING: non-matching reference and translated AA chr7 82579640 0 [82579640, 82579643] 0 3 17 24\n",
      "WARNING: non-matching reference and translated AA chr2 130914209 0 [130914208, 130914211] 0 3 7 19\n",
      "WARNING: non-matching reference and translated AA chr13 72440218 0 [72440217, 72440220] 0 3 11 12\n",
      "WARNING: non-matching reference and translated AA chr7 82584744 0 [82584742, 82584745] 0 3 18 24\n",
      "WARNING: non-matching reference and translated AA chr7 82580142 0 [82580141, 82580144] 0 3 17 24\n",
      "WARNING: non-matching reference and translated AA chr8 2820837 0 [2820837, 2820840] 0 3 10 70\n",
      "WARNING: non-matching reference and translated AA chr7 82582715 0 [82582714, 82582717] 0 3 18 24\n",
      "WARNING: non-matching reference and translated AA chr7 82585229 0 [82585228, 82585231] 0 3 18 24\n",
      "WARNING: non-matching reference and translated AA chr13 77642926 0 [77642924, 77642927] 0 3 13 83\n",
      "WARNING: non-matching reference and translated AA chr7 82595626 0 [82595626, 82595629] 0 3 19 24\n",
      "WARNING: non-matching reference and translated AA chr7 82586091 0 [82586089, 82586092] 0 3 18 24\n",
      "WARNING: non-matching reference and translated AA chr7 82582689 0 [82582687, 82582690] 0 3 18 24\n"
     ]
    },
    {
     "name": "stdout",
     "output_type": "stream",
     "text": [
      "WARNING: non-matching reference and translated AA chr7 82764076 0 [82764075, 82764078] 0 3 20 24\n",
      "WARNING: non-matching reference and translated AA chr10 35495903 0 [35495902, 35495905] 0 3 7 9\n",
      "WARNING: non-matching reference and translated AA chr12 52284476 0 [52284474, 52284477] 0 3 2 4\n",
      "WARNING: non-matching reference and translated AA chr17 79418799 0 [79418797, 79418800] 0 3 9 26\n",
      "WARNING: non-matching reference and translated AA chr7 82532011 0 [82532009, 82532012] 0 3 14 24\n",
      "WARNING: non-matching reference and translated AA chr8 3443659 0 [3443658, 3443661] 0 3 61 70\n",
      "WARNING: non-matching reference and translated AA chr1 74671277 0 [74671276, 74671279] 0 3 3 4\n",
      "WARNING: non-matching reference and translated AA chr9 114089891 0 [114089891, 114089894] 0 3 0 1\n",
      "WARNING: non-matching reference and translated AA chr3 168802732 0 [168802732, 168802735] 0 3 0 14\n",
      "WARNING: non-matching reference and translated AA chr22 50905839 0 [50905838, 50905841] 0 3 35 40\n",
      "WARNING: non-matching reference and translated AA chr8 133048634 0 [133048633, 133048636] 0 3 5 14\n",
      "WARNING: non-matching reference and translated AA chr15 89401956 0 [89401954, 89401957] 0 3 14 21\n",
      "WARNING: non-matching reference and translated AA chr1 230459176 0 [230459176, 230459179] 0 3 0 7\n",
      "WARNING: non-matching reference and translated AA chr7 82764140 0 [82764138, 82764141] 0 3 20 24\n",
      "WARNING: non-matching reference and translated AA chrX 71360110 0 [71360110, 71360113] 0 3 0 1\n",
      "WARNING: non-matching reference and translated AA chr1 205495219 0 [205495219, 205495222] 0 3 4 15\n",
      "WARNING: non-matching reference and translated AA chr1 205497018 0 [205497017, 205497020] 0 3 7 15\n",
      "WARNING: non-matching reference and translated AA chr1 154744570 0 [154744569, 154744572] 0 3 5 9\n",
      "WARNING: non-matching reference and translated AA chr17 43006325 0 [43006325, 43006328] 0 3 4 15\n",
      "WARNING: non-matching reference and translated AA chr9 139371170 0 [139371170, 139371173] 0 3 29 30\n",
      "WARNING: non-matching reference and translated AA chr13 77640155 0 [77640153, 77640156] 0 3 11 83\n",
      "WARNING: non-matching reference and translated AA chr13 77754424 0 [77754423, 77754426] 0 3 49 83\n",
      "WARNING: non-matching reference and translated AA chr16 72159246 0 [72159244, 72159247] 0 3 4 19\n",
      "WARNING: non-matching reference and translated AA chr3 48508279 0 [48508279, 48508282] 0 3 0 1\n",
      "WARNING: non-matching reference and translated AA chr2 73826572 0 [73826572, 73826575] 0 3 16 23\n",
      "WARNING: non-matching reference and translated AA chr3 48508426 0 [48508426, 48508429] 0 3 0 1\n",
      "WARNING: non-matching reference and translated AA chr13 77651385 0 [77651384, 77651387] 0 3 16 83\n",
      "WARNING: non-matching reference and translated AA chr7 91712784 0 [91712783, 91712786] 0 3 33 50\n",
      "WARNING: non-matching reference and translated AA chr1 214818505 0 [214818505, 214818508] 0 3 11 19\n",
      "WARNING: non-matching reference and translated AA chr3 169514594 0 [169514594, 169514597] 0 3 3 10\n",
      "WARNING: non-matching reference and translated AA chr20 33575014 0 [33575014, 33575017] 0 3 11 40\n",
      "WARNING: non-matching reference and translated AA chr13 77792040 0 [77792040, 77792043] 0 3 62 83\n",
      "WARNING: non-matching reference and translated AA chr7 82580094 0 [82580093, 82580096] 0 3 17 24\n",
      "WARNING: non-matching reference and translated AA chr22 50893797 0 [50893796, 50893799] 0 3 8 40\n",
      "WARNING: non-matching reference and translated AA chr19 2431619 0 [2431617, 2431620] 0 3 1 12\n",
      "WARNING: non-matching reference and translated AA chr5 7878350 0 [7878348, 7878351] 0 3 4 15\n",
      "WARNING: non-matching reference and translated AA chr17 32956142 0 [32956142, 32956145] 0 3 4 10\n",
      "WARNING: non-matching reference and translated AA chr2 73993606 0 [73993606, 73993609] 0 3 1 9\n",
      "WARNING: non-matching reference and translated AA chr8 3200828 0 [3200828, 3200831] 0 3 47 70\n",
      "WARNING: non-matching reference and translated AA chr3 52431059 0 [52431057, 52431060] 0 3 71 77\n",
      "WARNING: non-matching reference and translated AA chr7 91715704 0 [91715703, 91715706] 0 3 36 50\n",
      "WARNING: non-matching reference and translated AA chr7 82595382 0 [82595380, 82595383] 0 3 19 24\n",
      "WARNING: non-matching reference and translated AA chr7 82581993 0 [82581991, 82581994] 0 3 18 24\n",
      "WARNING: non-matching reference and translated AA chr3 52425571 0 [52425569, 52425572] 0 3 61 77\n",
      "WARNING: non-matching reference and translated AA chr11 6412090 0 [6412089, 6412092] 0 3 2 8\n",
      "WARNING: non-matching reference and translated AA chr10 27317827 0 [27317825, 27317828] 0 3 7 34\n",
      "WARNING: non-matching reference and translated AA chr19 50183748 0 [50183746, 50183749] 0 3 1 10\n",
      "WARNING: non-matching reference and translated AA chr3 168812935 0 [168812933, 168812936] 0 3 4 14\n",
      "WARNING: non-matching reference and translated AA chr7 91632512 0 [91632510, 91632513] 0 3 8 50\n",
      "WARNING: non-matching reference and translated AA chr9 139357571 0 [139357569, 139357572] 0 3 20 30\n",
      "WARNING: non-matching reference and translated AA chr7 82582164 0 [82582162, 82582165] 0 3 18 24\n",
      "WARNING: non-matching reference and translated AA chr11 66595784 0 [66595784, 66595787] 0 3 13 17\n",
      "WARNING: non-matching reference and translated AA chr10 24873423 0 [24873421, 24873424] 0 3 0 25\n",
      "WARNING: non-matching reference and translated AA chr6 32039944 0 [32039944, 32039947] 0 3 31 44\n",
      "WARNING: non-matching reference and translated AA chr5 140736893 0 [140736891, 140736894] 0 3 0 4\n",
      "WARNING: non-matching reference and translated AA chrX 66765882 0 [66765882, 66765885] 0 3 0 9\n",
      "WARNING: non-matching reference and translated AA chr7 100552503 0 [100552503, 100552506] 0 3 2 13\n",
      "WARNING: non-matching reference and translated AA chr10 21804809 0 [21804807, 21804810] 0 3 0 2\n",
      "WARNING: non-matching reference and translated AA chrX 109924821 0 [109924821, 109924824] 0 3 2 11\n",
      "WARNING: non-matching reference and translated AA chr7 82582133 0 [82582132, 82582135] 0 3 18 24\n",
      "WARNING: non-matching reference and translated AA chr2 220467462 0 [220467462, 220467465] 0 3 5 24\n",
      "WARNING: non-matching reference and translated AA chr8 10466918 0 [10466918, 10466921] 0 3 0 4\n",
      "WARNING: non-matching reference and translated AA chr10 24922373 0 [24922371, 24922374] 0 3 20 25\n",
      "WARNING: non-matching reference and translated AA chr6 37138767 0 [37138765, 37138768] 0 3 2 6\n",
      "WARNING: non-matching reference and translated AA chr19 13356068 0 [13356067, 13356070] 0 3 18 49\n",
      "WARNING: non-matching reference and translated AA chr6 37138401 0 [37138399, 37138402] 0 3 0 6\n",
      "WARNING: non-matching reference and translated AA chr8 2944804 0 [2944802, 2944805] 0 3 21 70\n",
      "WARNING: non-matching reference and translated AA chr14 75248989 0 [75248987, 75248990] 0 3 3 20\n",
      "WARNING: non-matching reference and translated AA chr19 53669507 0 [53669505, 53669508] 0 3 0 1\n",
      "WARNING: non-matching reference and translated AA chr7 82579010 0 [82579010, 82579013] 0 3 17 24\n",
      "WARNING: non-matching reference and translated AA chr7 91714244 0 [91714242, 91714245] 0 3 34 50\n",
      "WARNING: non-matching reference and translated AA chr22 21105648 0 [21105646, 21105649] 0 3 28 54\n",
      "WARNING: non-matching reference and translated AA chr17 32964757 0 [32964756, 32964759] 0 3 9 10\n",
      "WARNING: non-matching reference and translated AA chr19 9061010 0 [9061009, 9061012] 0 3 80 87\n",
      "WARNING: non-matching reference and translated AA chr8 3165243 0 [3165242, 3165245] 0 3 45 70\n",
      "WARNING: non-matching reference and translated AA chr2 73994015 0 [73994013, 73994016] 0 3 2 9\n",
      "WARNING: non-matching reference and translated AA chr6 32014160 0 [32014159, 32014162] 0 3 13 44\n",
      "WARNING: non-matching reference and translated AA chr13 77713467 0 [77713465, 77713468] 0 3 31 83\n",
      "WARNING: non-matching reference and translated AA chr3 179096506 0 [179096506, 179096509] 0 3 12 17\n",
      "WARNING: non-matching reference and translated AA chr19 1234670 0 [1234668, 1234671] 0 3 4 9\n",
      "WARNING: non-matching reference and translated AA chr1 198711056 0 [198711054, 198711057] 0 3 22 32\n",
      "WARNING: non-matching reference and translated AA chr7 82582105 0 [82582105, 82582108] 0 3 18 24\n",
      "WARNING: non-matching reference and translated AA chr15 89417080 0 [89417080, 89417083] 0 3 19 21\n",
      "WARNING: non-matching reference and translated AA chr2 220478532 0 [220478531, 220478534] 0 3 19 24\n",
      "WARNING: non-matching reference and translated AA chrX 66943540 0 [66943539, 66943542] 0 3 8 9\n",
      "WARNING: non-matching reference and translated AA chr1 230459180 0 [230459179, 230459182] 0 3 0 7\n",
      "WARNING: non-matching reference and translated AA chr22 41735852 0 [41735852, 41735855] 0 3 8 22\n"
     ]
    },
    {
     "name": "stdout",
     "output_type": "stream",
     "text": [
      "WARNING: non-matching reference and translated AA chr6 37139202 0 [37139200, 37139203] 0 3 3 6\n",
      "WARNING: non-matching reference and translated AA chr6 32016231 0 [32016230, 32016233] 0 3 15 44\n",
      "WARNING: non-matching reference and translated AA chr6 37138608 0 [37138607, 37138610] 0 3 1 6\n",
      "WARNING: non-matching reference and translated AA chr6 37138607 0 [37138607, 37138610] 0 3 1 6\n",
      "WARNING: non-matching reference and translated AA chr6 32037984 0 [32037982, 32037985] 0 3 30 44\n",
      "WARNING: non-matching reference and translated AA chr19 54967610 0 [54967609, 54967612] 0 3 7 15\n",
      "WARNING: non-matching reference and translated AA chr8 2836258 0 [2836257, 2836260] 0 3 15 70\n",
      "WARNING: non-matching reference and translated AA chr22 21156280 0 [21156280, 21156283] 0 3 41 54\n",
      "WARNING: non-matching reference and translated AA chrX 66765686 0 [66765684, 66765687] 0 3 0 9\n",
      "WARNING: non-matching reference and translated AA chr14 26918077 0 [26918076, 26918079] 0 3 0 5\n",
      "WARNING: non-matching reference and translated AA chr10 35500583 -2 [35500583, 35500584] 0 3 8 9\n",
      "WARNING: non-matching reference and translated AA chr9 133281488 0 [133281488, 133281491] 0 3 71 88\n",
      "WARNING: non-matching reference and translated AA chr18 13049133 0 [13049133, 13049136] 0 3 3 33\n",
      "WARNING: non-matching reference and translated AA chr12 124821592 0 [124821590, 124821593] 0 3 9 47\n",
      "WARNING: non-matching reference and translated AA chr19 9073281 0 [9073279, 9073282] 0 3 80 87\n",
      "WARNING: non-matching reference and translated AA chr1 198701651 0 [198701649, 198701652] 0 3 18 32\n",
      "WARNING: non-matching reference and translated AA chr6 37139246 0 [37139245, 37139248] 0 3 3 6\n",
      "WARNING: non-matching reference and translated AA chr5 140737110 0 [140737110, 140737113] 0 3 0 4\n",
      "dir exists.\n",
      "SHOULD BE A MAF WITH ALL CODING MUTATIONS (NOT JUST MISSENSES)\n",
      "Tumor Types: 1\n",
      "\tPMBL | 37 samples\n"
     ]
    }
   ],
   "source": [
    "input_maf = './inputs/PMBL.clumps.maf'\n",
    "#inMaf = './inputs/brca_prosp_v2.1_CPTAC2_BRCA_prospective.v1.4.somatic.variants.070918.maf'\n",
    "\n",
    "# Create GP Mapper\n",
    "gpm = GPmapper()\n",
    "\n",
    "# Make GP File\n",
    "make_gp_file(gpm, input_maf, output_file='muts.gp')\n",
    "             \n",
    "# Split GP File\n",
    "split_muts_file('muts.gp')\n",
    "\n",
    "# Calculate mutational contexts\n",
    "calc_muts_spectra(input_maf)\n",
    "\n",
    "# Calculate mutational spectra\n",
    "calc_muts_freq(input_maf)"
   ]
  },
  {
   "cell_type": "code",
   "execution_count": null,
   "metadata": {},
   "outputs": [],
   "source": [
    "# Create huniprot chunks\n",
    "# Download files?"
   ]
  },
  {
   "cell_type": "code",
   "execution_count": 3,
   "metadata": {},
   "outputs": [],
   "source": [
    "import random\n",
    "import time\n",
    "\n",
    "from gzip import GzipFile\n",
    "#from lib import *\n",
    "from multiprocessing import Process, Queue\n",
    "from samplers.UniformSampler import *\n",
    "from samplers.CoverageSampler import *\n",
    "from samplers.MutspecCoverageSampler import *"
   ]
  },
  {
   "cell_type": "code",
   "execution_count": 4,
   "metadata": {},
   "outputs": [],
   "source": [
    "RESFLAG = 'pmbl.rerun'\n",
    "MUTURL = './splitByProtein/' # 'http://compute-a-16-139:9014/p='\n",
    "MUTTYPES = set(['M'])\n",
    "TTYPE = 'PMBL'\n",
    "#MAPURL = '../res/huniprot2pdb.run18.split/'#'http://compute-a-17-138:9000/s='\n",
    "#COVERAGETRACK = '/home/ajd27/clumps2/dat/WEx_cov.fwb'\n",
    "#SAMPLER = 'MutspecCoverageSampler'\n",
    "MAXRAND = 10000000\n",
    "SAMPLEMUTFREQWEIGHT = 'sampleMutFreq.txt'\n",
    "PATMUTSPECTRA = 'sampleMutSpectra.txt'\n",
    "HILLEXP = 3\n",
    "PANCANFACTOR = 1.0\n",
    "XPO = [3, 4.5, 6, 8, 10]  ## 'soft threshold' parameter for the truncated Gaussian fct.\n",
    "NUMCORES = 1\n",
    "USEPROVIDEDVALUES = 0\n",
    "CLUMPSMUTSAMPLEFILT = 3"
   ]
  },
  {
   "cell_type": "code",
   "execution_count": 5,
   "metadata": {},
   "outputs": [],
   "source": [
    "#MAPSFILE = './dat/huniprot2pdb_chunks/huniprot2pdb_chunk_00000.gz'\n",
    "MAPSFILE = './dat/huniprot2pdb.run18.filt.txt.gz'\n",
    "\n",
    "#SHARD = MAPSFILE.rsplit('.',1)[0].rsplit('_',1)[1]  ## chunk identifier of the mapsfile\n",
    "LINEIDX = 0\n",
    "\n",
    "if TTYPE == 'PanCan':\n",
    "    TTYPE = None\n",
    "\n",
    "if TTYPE and PANCANFACTOR != 1.0:\n",
    "    print('WARNING: pancanfactor is not 1 althought TTYPE is set. Correcting to pancanfactor=1')\n",
    "    PANCANFACTOR = 1.0"
   ]
  },
  {
   "cell_type": "code",
   "execution_count": 6,
   "metadata": {},
   "outputs": [],
   "source": [
    "try:\n",
    "    del sys.modules['utils']\n",
    "except:\n",
    "    pass\n",
    "\n",
    "from utils import *"
   ]
  },
  {
   "cell_type": "code",
   "execution_count": 8,
   "metadata": {},
   "outputs": [
    {
     "name": "stderr",
     "output_type": "stream",
     "text": [
      "@> 1120 atoms and 1 coordinate set(s) were parsed in 0.01s.\n",
      "@> 2447 atoms and 1 coordinate set(s) were parsed in 0.03s.\n",
      "@> 1019 atoms and 20 coordinate set(s) were parsed in 0.06s.\n",
      "@> 1492 atoms and 20 coordinate set(s) were parsed in 0.08s.\n",
      "@> 876 atoms and 1 coordinate set(s) were parsed in 0.01s.\n",
      "@> 951 atoms and 1 coordinate set(s) were parsed in 0.01s.\n",
      "@> 1029 atoms and 1 coordinate set(s) were parsed in 0.01s.\n",
      "@> 6305 atoms and 1 coordinate set(s) were parsed in 0.08s.\n",
      "@> 896 atoms and 15 coordinate set(s) were parsed in 0.04s.\n",
      "@> 2828 atoms and 1 coordinate set(s) were parsed in 0.03s.\n",
      "@> 2971 atoms and 1 coordinate set(s) were parsed in 0.03s.\n",
      "@> 7749 atoms and 1 coordinate set(s) were parsed in 0.08s.\n"
     ]
    }
   ],
   "source": [
    "xpol = len(XPO)\n",
    "\n",
    "num_pdbs = 0\n",
    "with gzip.open(MAPSFILE, 'r') as f:\n",
    "    for idx,line in enumerate(f):\n",
    "        u1,u2,pdbch,alidt,resmap = line.decode('utf-8').strip('\\n').split('\\t', 4)\n",
    "        \n",
    "        if os.path.isfile(os.path.join(MUTURL,u1)):\n",
    "            pdbch = pdbch.split('-')\n",
    "            \n",
    "            ur,pr,prd = parse_resmap(resmap)\n",
    "\n",
    "            if len(ur) < 5:\n",
    "                ## number of mapped residues (between uniprot and pdb)\n",
    "                #fo.write('#\\n')\n",
    "                #fo.close()\n",
    "                exit(0)\n",
    "\n",
    "            # Get AA residue Coordinates\n",
    "            D,x = get_distance_matrix(pdbch, pdb_resids=pr)\n",
    "\n",
    "            # Transform distance matrix\n",
    "            DDt = transform_distance_matrix(D, ur, XPO)\n",
    "\n",
    "            # Load mutational frequencies\n",
    "            mfreq = load_mut_freqs(SAMPLEMUTFREQWEIGHT)\n",
    "\n",
    "            # Load Protein file\n",
    "            protein_muts = map_pos_with_weights(MUTURL, u1, mfreq, TTYPE, MUTTYPES, USEPROVIDEDVALUES, SAMPLEMUTFREQWEIGHT)\n",
    "\n",
    "            # mi: index of mutated residue\n",
    "            # mv: normalized mutation count at each residue\n",
    "            # mt: cancer types contributing mutations\n",
    "            mi,mv,mt = get_pdb_muts_overlap(ur, protein_muts, HILLEXP, USEPROVIDEDVALUES)\n",
    "            \n",
    "            if len(mi) > 0:\n",
    "                break"
   ]
  },
  {
   "cell_type": "code",
   "execution_count": 11,
   "metadata": {},
   "outputs": [],
   "source": [
    "#pth = '../res/clumps/%s-%d_%s_%s_%s-%s_%s' % (SHARD, LINEIDX, u1, u2, pdbch[0], pdbch[1], resmap.split(':',1)[0])"
   ]
  },
  {
   "cell_type": "code",
   "execution_count": 9,
   "metadata": {},
   "outputs": [
    {
     "data": {
      "text/plain": [
       "([53, 866],\n",
       " [0.0002698639871710061, 0.0002698639871710061],\n",
       " [{'PMBL'}, {'PMBL'}])"
      ]
     },
     "execution_count": 9,
     "metadata": {},
     "output_type": "execute_result"
    }
   ],
   "source": [
    "mi,mv,mt"
   ]
  },
  {
   "cell_type": "code",
   "execution_count": 10,
   "metadata": {},
   "outputs": [
    {
     "data": {
      "text/plain": [
       "(range(0, 2), 2)"
      ]
     },
     "execution_count": 10,
     "metadata": {},
     "output_type": "execute_result"
    }
   ],
   "source": [
    "vcorr = range(len(mv))  ## correspondence between mi and mv\n",
    "cm = len(mi)   ## mutated residue count"
   ]
  },
  {
   "cell_type": "code",
   "execution_count": 12,
   "metadata": {},
   "outputs": [],
   "source": [
    "Mmv = []   ## matrix that holds mv[i]*mv[j] values (sqrt or not)\n",
    "for i in range(len(mi)):\n",
    "    mrow = sp.zeros(len(mi), sp.float64)  \n",
    "    for j in range(len(mi)):\n",
    "        #mrow[j] = sp.sqrt(mv[i]*mv[j])  ## geometric mean; actually does not perform better in most cases\n",
    "        if PANCANFACTOR == 1.0:\n",
    "            mrow[j] = mv[i]*mv[j]          ## product\n",
    "        else:\n",
    "            mrow[j] = (PANCANFACTOR + (1.0-PANCANFACTOR)*(len(mt[i] & mt[j])>0)) * mv[i]*mv[j]          ## product\n",
    "    Mmv.append(mrow)\n",
    "\n",
    "def wap(mi,mvcorr):\n",
    "    s = sp.zeros(len(DDt), sp.float64)\n",
    "    for mat in xrange(xpol):\n",
    "        d = DDt[mat]\n",
    "        for i in xrange(cm):\n",
    "            dcol = d[mi[i]]\n",
    "            for j in xrange(i):\n",
    "                s[mat] += Mmv[mvcorr[i]][mvcorr[j]] * dcol[mi[j]]\n",
    "    return s"
   ]
  },
  {
   "cell_type": "code",
   "execution_count": 16,
   "metadata": {},
   "outputs": [
    {
     "data": {
      "text/plain": [
       "([53, 866], range(0, 2))"
      ]
     },
     "execution_count": 16,
     "metadata": {},
     "output_type": "execute_result"
    }
   ],
   "source": [
    "mi, range(len(mv))"
   ]
  },
  {
   "cell_type": "code",
   "execution_count": null,
   "metadata": {},
   "outputs": [],
   "source": []
  }
 ],
 "metadata": {
  "kernelspec": {
   "display_name": "Python 3",
   "language": "python",
   "name": "python3"
  },
  "language_info": {
   "codemirror_mode": {
    "name": "ipython",
    "version": 3
   },
   "file_extension": ".py",
   "mimetype": "text/x-python",
   "name": "python",
   "nbconvert_exporter": "python",
   "pygments_lexer": "ipython3",
   "version": "3.5.2"
  }
 },
 "nbformat": 4,
 "nbformat_minor": 2
}
